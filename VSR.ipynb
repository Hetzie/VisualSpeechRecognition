{
  "cells": [
    {
      "cell_type": "code",
      "execution_count": 1,
      "metadata": {
        "id": "hSCgEHjGywXs"
      },
      "outputs": [],
      "source": [
        "import os\n",
        "import cv2\n",
        "import tensorflow as tf\n",
        "import numpy as np\n",
        "from matplotlib import pyplot as plt\n",
        "import gdown"
      ]
    },
    {
      "cell_type": "code",
      "execution_count": 2,
      "metadata": {
        "colab": {
          "base_uri": "https://localhost:8080/"
        },
        "id": "xvE3BN8VzsDw",
        "outputId": "ed430e16-d1f2-44d9-dd1b-6433e0c49138"
      },
      "outputs": [],
      "source": [
        "# import gdown\n",
        "# url = 'https://drive.google.com/uc?id=1YlvpDLix3S-U8fd-gqRwPcWXAXm8JwjL'\n",
        "# output = 'data.zip'\n",
        "# gdown.download(url, output, quiet=False)\n",
        "# gdown.extractall('data.zip')"
      ]
    },
    {
      "cell_type": "code",
      "execution_count": null,
      "metadata": {},
      "outputs": [],
      "source": []
    },
    {
      "cell_type": "code",
      "execution_count": 3,
      "metadata": {
        "id": "t3kYaPcwy_XT"
      },
      "outputs": [],
      "source": [
        "def load_video(path):\n",
        "\n",
        "    cap = cv2.VideoCapture(path)\n",
        "    frames = []\n",
        "    for _ in range(int(cap.get(cv2.CAP_PROP_FRAME_COUNT))):\n",
        "        ret, frame = cap.read()\n",
        "        frame = tf.image.rgb_to_grayscale(frame)\n",
        "        frames.append(frame[190:236,80:220,:])\n",
        "    cap.release()\n",
        "\n",
        "    mean = tf.math.reduce_mean(frames)\n",
        "    std = tf.math.reduce_std(tf.cast(frames, tf.float32))\n",
        "    return tf.cast((frames - mean), tf.float32) / std"
      ]
    },
    {
      "cell_type": "code",
      "execution_count": 4,
      "metadata": {
        "id": "b-iuVd4mzHzj"
      },
      "outputs": [],
      "source": [
        "vocab = [x for x in \"abcdefghijklmnopqrstuvwxyz \"]\n",
        "char_to_num = tf.keras.layers.StringLookup(vocabulary=vocab, oov_token=\"\")\n",
        "num_to_char = tf.keras.layers.StringLookup(\n",
        "    vocabulary=char_to_num.get_vocabulary(), oov_token=\"\", invert=True\n",
        ")"
      ]
    },
    {
      "cell_type": "code",
      "execution_count": 5,
      "metadata": {
        "id": "YDjZ1BxlzMyT"
      },
      "outputs": [],
      "source": [
        "def load_alignments(path):\n",
        "    with open(path, 'r') as f:\n",
        "        lines = f.readlines()\n",
        "    tokens = []\n",
        "    for line in lines:\n",
        "        line = line.split()\n",
        "        if line[2] != 'sil':\n",
        "            tokens = [*tokens,' ',line[2]]\n",
        "    return char_to_num(tf.reshape(tf.strings.unicode_split(tokens, input_encoding='UTF-8'), (-1)))[1:]"
      ]
    },
    {
      "cell_type": "code",
      "execution_count": 6,
      "metadata": {
        "id": "jH0c9vudzZib"
      },
      "outputs": [],
      "source": [
        "def load_data(path: str):\n",
        "    path = bytes.decode(path.numpy())\n",
        "    file_name = os.path.basename(path).split('.')[0]\n",
        "    # print(file_name)\n",
        "    video_path = os.path.join('data','s1',f'{file_name}.mpg')\n",
        "    alignment_path = os.path.join(\"data\", \"alignments\", \"s1\", f\"{file_name}.align\")\n",
        "    # print(video_path, alignment_path)\n",
        "    frames = load_video(video_path)\n",
        "    alignments = load_alignments(f\"{alignment_path}\")\n",
        "\n",
        "    return frames, alignments"
      ]
    },
    {
      "cell_type": "code",
      "execution_count": 7,
      "metadata": {
        "id": "yaf3ZPHMzfJn"
      },
      "outputs": [],
      "source": [
        "def map_function(path):\n",
        "    result = tf.py_function(load_data, [path], (tf.float32, tf.int64))\n",
        "    return result"
      ]
    },
    {
      "cell_type": "code",
      "execution_count": 9,
      "metadata": {
        "id": "17_KDcMWzmMT"
      },
      "outputs": [],
      "source": [
        "data = tf.data.Dataset.list_files('data/s1/*.mpg')\n",
        "data = data.shuffle(500, reshuffle_each_iteration=False)\n",
        "data = data.map(map_function)\n",
        "data = data.padded_batch(2, padded_shapes=([75,None,None,None],[40]))\n",
        "data = data.prefetch(tf.data.AUTOTUNE)\n",
        "# Added for split\n",
        "train = data.take(450)\n",
        "test = data.skip(450)"
      ]
    },
    {
      "cell_type": "code",
      "execution_count": 10,
      "metadata": {
        "id": "Crs-HMLIzoa_"
      },
      "outputs": [],
      "source": [
        "from tensorflow.keras.models import Sequential\n",
        "from tensorflow.keras.layers import Conv3D, GRU, Dense, Dropout, Bidirectional, MaxPool3D, Activation, Reshape, SpatialDropout3D, BatchNormalization, TimeDistributed, Flatten\n",
        "from tensorflow.keras.optimizers import Adam\n",
        "from tensorflow.keras.callbacks import ModelCheckpoint, Callback"
      ]
    },
    {
      "cell_type": "code",
      "execution_count": 11,
      "metadata": {
        "id": "dp8oV5anz2UY"
      },
      "outputs": [],
      "source": [
        "model = Sequential()\n",
        "model.add(Conv3D(128, 3, input_shape=(75,46,140,1), padding='same'))\n",
        "model.add(Activation('relu'))\n",
        "model.add(MaxPool3D((1,2,2)))\n",
        "\n",
        "model.add(Conv3D(256, 3, padding='same'))\n",
        "model.add(Activation('relu'))\n",
        "model.add(MaxPool3D((1,2,2)))\n",
        "\n",
        "model.add(Conv3D(75, 3, padding='same'))\n",
        "model.add(Activation('relu'))\n",
        "model.add(MaxPool3D((1,2,2)))\n",
        "\n",
        "model.add(TimeDistributed(Flatten()))\n",
        "\n",
        "model.add(Bidirectional(GRU(128, kernel_initializer='Orthogonal', return_sequences=True)))\n",
        "model.add(Dropout(.5))\n",
        "\n",
        "model.add(Bidirectional(GRU(128, kernel_initializer='Orthogonal', return_sequences=True)))\n",
        "model.add(Dropout(.5))\n",
        "\n",
        "model.add(Dense(char_to_num.vocabulary_size()+1, kernel_initializer='he_normal', activation='softmax'))"
      ]
    },
    {
      "cell_type": "code",
      "execution_count": 12,
      "metadata": {
        "colab": {
          "base_uri": "https://localhost:8080/"
        },
        "id": "KJ89FhO1z5Je",
        "outputId": "468c550e-93c8-4de3-b248-12da6d9a9a84"
      },
      "outputs": [
        {
          "name": "stdout",
          "output_type": "stream",
          "text": [
            "Model: \"sequential\"\n",
            "_________________________________________________________________\n",
            " Layer (type)                Output Shape              Param #   \n",
            "=================================================================\n",
            " conv3d (Conv3D)             (None, 75, 46, 140, 128   3584      \n",
            "                             )                                   \n",
            "                                                                 \n",
            " activation (Activation)     (None, 75, 46, 140, 128   0         \n",
            "                             )                                   \n",
            "                                                                 \n",
            " max_pooling3d (MaxPooling3  (None, 75, 23, 70, 128)   0         \n",
            " D)                                                              \n",
            "                                                                 \n",
            " conv3d_1 (Conv3D)           (None, 75, 23, 70, 256)   884992    \n",
            "                                                                 \n",
            " activation_1 (Activation)   (None, 75, 23, 70, 256)   0         \n",
            "                                                                 \n",
            " max_pooling3d_1 (MaxPoolin  (None, 75, 11, 35, 256)   0         \n",
            " g3D)                                                            \n",
            "                                                                 \n",
            " conv3d_2 (Conv3D)           (None, 75, 11, 35, 75)    518475    \n",
            "                                                                 \n",
            " activation_2 (Activation)   (None, 75, 11, 35, 75)    0         \n",
            "                                                                 \n",
            " max_pooling3d_2 (MaxPoolin  (None, 75, 5, 17, 75)     0         \n",
            " g3D)                                                            \n",
            "                                                                 \n",
            " time_distributed (TimeDist  (None, 75, 6375)          0         \n",
            " ributed)                                                        \n",
            "                                                                 \n",
            " bidirectional (Bidirection  (None, 75, 256)           4995840   \n",
            " al)                                                             \n",
            "                                                                 \n",
            " dropout (Dropout)           (None, 75, 256)           0         \n",
            "                                                                 \n",
            " bidirectional_1 (Bidirecti  (None, 75, 256)           296448    \n",
            " onal)                                                           \n",
            "                                                                 \n",
            " dropout_1 (Dropout)         (None, 75, 256)           0         \n",
            "                                                                 \n",
            " dense (Dense)               (None, 75, 29)            7453      \n",
            "                                                                 \n",
            "=================================================================\n",
            "Total params: 6706792 (25.58 MB)\n",
            "Trainable params: 6706792 (25.58 MB)\n",
            "Non-trainable params: 0 (0.00 Byte)\n",
            "_________________________________________________________________\n"
          ]
        }
      ],
      "source": [
        "model.summary()"
      ]
    },
    {
      "cell_type": "code",
      "execution_count": 13,
      "metadata": {
        "id": "D7dKDH-Gz8FO"
      },
      "outputs": [],
      "source": [
        "def CTCLoss(y_true, y_pred):\n",
        "    batch_len = tf.cast(tf.shape(y_true)[0], dtype=\"int64\")\n",
        "    input_length = tf.cast(tf.shape(y_pred)[1], dtype=\"int64\")\n",
        "    label_length = tf.cast(tf.shape(y_true)[1], dtype=\"int64\")\n",
        "\n",
        "    input_length = input_length * tf.ones(shape=(batch_len, 1), dtype=\"int64\")\n",
        "    label_length = label_length * tf.ones(shape=(batch_len, 1), dtype=\"int64\")\n",
        "\n",
        "    loss = tf.keras.backend.ctc_batch_cost(y_true, y_pred, input_length, label_length)\n",
        "    return loss"
      ]
    },
    {
      "cell_type": "code",
      "execution_count": 14,
      "metadata": {
        "colab": {
          "base_uri": "https://localhost:8080/"
        },
        "id": "KJNZxpfJz-vw",
        "outputId": "04ac0297-caa8-4b81-e549-ca3a52fbeb44"
      },
      "outputs": [
        {
          "name": "stderr",
          "output_type": "stream",
          "text": [
            "Downloading...\n",
            "From (uriginal): https://drive.google.com/u/0/uc?id=1ZjV3BqqMk95gZLgy126P0lw8b-93guTj&export=download\n",
            "From (redirected): https://drive.google.com/uc?id=1ZjV3BqqMk95gZLgy126P0lw8b-93guTj&export=download&confirm=t&uuid=e6ec09b4-cb4c-47db-a424-f0fa1e258f92\n",
            "To: c:\\Users\\Rajvi Zala\\streamlit-app\\pre_models.zip\n",
            "100%|██████████| 75.4M/75.4M [01:50<00:00, 679kB/s] \n"
          ]
        },
        {
          "data": {
            "text/plain": [
              "['models/.ipynb_checkpoints/',\n",
              " 'models/checkpoint',\n",
              " 'models/checkpoint.data-00000-of-00001',\n",
              " 'models/checkpoint.index']"
            ]
          },
          "execution_count": 14,
          "metadata": {},
          "output_type": "execute_result"
        }
      ],
      "source": [
        "url = 'https://drive.google.com/u/0/uc?id=1ZjV3BqqMk95gZLgy126P0lw8b-93guTj&export=download'\n",
        "output = 'pre_models.zip'\n",
        "gdown.download(url, output, quiet=False)\n",
        "gdown.extractall('pre_models.zip')"
      ]
    },
    {
      "cell_type": "code",
      "execution_count": 15,
      "metadata": {},
      "outputs": [],
      "source": [
        "model.compile(optimizer = Adam(learning_rate=0.0001), loss=CTCLoss)"
      ]
    },
    {
      "cell_type": "code",
      "execution_count": 16,
      "metadata": {
        "colab": {
          "base_uri": "https://localhost:8080/"
        },
        "id": "LPIDgwMg0E0B",
        "outputId": "181d61a9-e7e8-4323-d904-3b9b3c3e157b"
      },
      "outputs": [
        {
          "data": {
            "text/plain": [
              "<tensorflow.python.checkpoint.checkpoint.CheckpointLoadStatus at 0x1bd277abfa0>"
            ]
          },
          "execution_count": 16,
          "metadata": {},
          "output_type": "execute_result"
        }
      ],
      "source": [
        "model.load_weights(\"models/checkpoint\")"
      ]
    },
    {
      "cell_type": "code",
      "execution_count": 17,
      "metadata": {
        "id": "gWXwOFdL0MHZ"
      },
      "outputs": [
        {
          "data": {
            "text/plain": [
              "(array([[[[[1.4137809 ],\n",
              "           [1.4137809 ],\n",
              "           [1.4509857 ],\n",
              "           ...,\n",
              "           [0.33484286],\n",
              "           [0.3720476 ],\n",
              "           [0.3720476 ]],\n",
              " \n",
              "          [[1.4881904 ],\n",
              "           [1.5253952 ],\n",
              "           [1.4881904 ],\n",
              "           ...,\n",
              "           [0.33484286],\n",
              "           [0.3720476 ],\n",
              "           [0.3720476 ]],\n",
              " \n",
              "          [[1.4137809 ],\n",
              "           [1.4137809 ],\n",
              "           [1.3393714 ],\n",
              "           ...,\n",
              "           [0.33484286],\n",
              "           [0.33484286],\n",
              "           [0.33484286]],\n",
              " \n",
              "          ...,\n",
              " \n",
              "          [[1.0045285 ],\n",
              "           [1.0045285 ],\n",
              "           [0.9673238 ],\n",
              "           ...,\n",
              "           [0.07440952],\n",
              "           [0.03720476],\n",
              "           [0.03720476]],\n",
              " \n",
              "          [[1.0045285 ],\n",
              "           [1.0045285 ],\n",
              "           [0.9673238 ],\n",
              "           ...,\n",
              "           [0.03720476],\n",
              "           [0.        ],\n",
              "           [0.        ]],\n",
              " \n",
              "          [[1.0045285 ],\n",
              "           [1.0045285 ],\n",
              "           [0.9673238 ],\n",
              "           ...,\n",
              "           [0.03720476],\n",
              "           [0.        ],\n",
              "           [0.        ]]],\n",
              " \n",
              " \n",
              "         [[[1.4881904 ],\n",
              "           [1.4881904 ],\n",
              "           [1.4137809 ],\n",
              "           ...,\n",
              "           [0.26043332],\n",
              "           [0.26043332],\n",
              "           [0.26043332]],\n",
              " \n",
              "          [[1.5625999 ],\n",
              "           [1.5253952 ],\n",
              "           [1.4509857 ],\n",
              "           ...,\n",
              "           [0.26043332],\n",
              "           [0.26043332],\n",
              "           [0.26043332]],\n",
              " \n",
              "          [[1.4881904 ],\n",
              "           [1.4881904 ],\n",
              "           [1.3765762 ],\n",
              "           ...,\n",
              "           [0.2976381 ],\n",
              "           [0.2976381 ],\n",
              "           [0.2976381 ]],\n",
              " \n",
              "          ...,\n",
              " \n",
              "          [[0.9673238 ],\n",
              "           [0.9673238 ],\n",
              "           [0.93011904],\n",
              "           ...,\n",
              "           [0.07440952],\n",
              "           [0.03720476],\n",
              "           [0.03720476]],\n",
              " \n",
              "          [[0.9673238 ],\n",
              "           [0.9673238 ],\n",
              "           [0.93011904],\n",
              "           ...,\n",
              "           [0.03720476],\n",
              "           [0.        ],\n",
              "           [0.        ]],\n",
              " \n",
              "          [[0.9673238 ],\n",
              "           [0.9673238 ],\n",
              "           [0.93011904],\n",
              "           ...,\n",
              "           [0.03720476],\n",
              "           [0.        ],\n",
              "           [0.        ]]],\n",
              " \n",
              " \n",
              "         [[[1.4881904 ],\n",
              "           [1.4881904 ],\n",
              "           [1.4509857 ],\n",
              "           ...,\n",
              "           [0.2976381 ],\n",
              "           [0.26043332],\n",
              "           [0.26043332]],\n",
              " \n",
              "          [[1.5253952 ],\n",
              "           [1.4881904 ],\n",
              "           [1.4509857 ],\n",
              "           ...,\n",
              "           [0.2976381 ],\n",
              "           [0.26043332],\n",
              "           [0.26043332]],\n",
              " \n",
              "          [[1.4881904 ],\n",
              "           [1.4881904 ],\n",
              "           [1.3765762 ],\n",
              "           ...,\n",
              "           [0.33484286],\n",
              "           [0.2976381 ],\n",
              "           [0.2976381 ]],\n",
              " \n",
              "          ...,\n",
              " \n",
              "          [[1.0045285 ],\n",
              "           [1.0045285 ],\n",
              "           [0.9673238 ],\n",
              "           ...,\n",
              "           [0.03720476],\n",
              "           [0.        ],\n",
              "           [0.        ]],\n",
              " \n",
              "          [[1.0045285 ],\n",
              "           [1.0045285 ],\n",
              "           [0.9673238 ],\n",
              "           ...,\n",
              "           [0.        ],\n",
              "           [9.450009  ],\n",
              "           [9.450009  ]],\n",
              " \n",
              "          [[1.0045285 ],\n",
              "           [1.0045285 ],\n",
              "           [0.9673238 ],\n",
              "           ...,\n",
              "           [0.        ],\n",
              "           [9.450009  ],\n",
              "           [9.450009  ]]],\n",
              " \n",
              " \n",
              "         ...,\n",
              " \n",
              " \n",
              "         [[[1.4509857 ],\n",
              "           [1.4881904 ],\n",
              "           [1.5253952 ],\n",
              "           ...,\n",
              "           [0.26043332],\n",
              "           [0.2976381 ],\n",
              "           [0.2976381 ]],\n",
              " \n",
              "          [[1.4881904 ],\n",
              "           [1.5253952 ],\n",
              "           [1.5253952 ],\n",
              "           ...,\n",
              "           [0.26043332],\n",
              "           [0.2976381 ],\n",
              "           [0.2976381 ]],\n",
              " \n",
              "          [[1.4509857 ],\n",
              "           [1.4509857 ],\n",
              "           [1.4137809 ],\n",
              "           ...,\n",
              "           [0.2976381 ],\n",
              "           [0.26043332],\n",
              "           [0.26043332]],\n",
              " \n",
              "          ...,\n",
              " \n",
              "          [[0.93011904],\n",
              "           [0.93011904],\n",
              "           [0.93011904],\n",
              "           ...,\n",
              "           [0.07440952],\n",
              "           [0.03720476],\n",
              "           [0.        ]],\n",
              " \n",
              "          [[0.93011904],\n",
              "           [0.93011904],\n",
              "           [0.93011904],\n",
              "           ...,\n",
              "           [0.07440952],\n",
              "           [0.03720476],\n",
              "           [0.        ]],\n",
              " \n",
              "          [[0.93011904],\n",
              "           [0.93011904],\n",
              "           [0.93011904],\n",
              "           ...,\n",
              "           [0.03720476],\n",
              "           [0.        ],\n",
              "           [9.487214  ]]],\n",
              " \n",
              " \n",
              "         [[[1.4881904 ],\n",
              "           [1.5253952 ],\n",
              "           [1.5253952 ],\n",
              "           ...,\n",
              "           [0.26043332],\n",
              "           [0.26043332],\n",
              "           [0.26043332]],\n",
              " \n",
              "          [[1.5253952 ],\n",
              "           [1.5625999 ],\n",
              "           [1.5253952 ],\n",
              "           ...,\n",
              "           [0.26043332],\n",
              "           [0.26043332],\n",
              "           [0.26043332]],\n",
              " \n",
              "          [[1.4509857 ],\n",
              "           [1.4509857 ],\n",
              "           [1.4137809 ],\n",
              "           ...,\n",
              "           [0.2976381 ],\n",
              "           [0.2976381 ],\n",
              "           [0.2976381 ]],\n",
              " \n",
              "          ...,\n",
              " \n",
              "          [[0.9673238 ],\n",
              "           [0.9673238 ],\n",
              "           [0.9673238 ],\n",
              "           ...,\n",
              "           [0.07440952],\n",
              "           [0.03720476],\n",
              "           [0.        ]],\n",
              " \n",
              "          [[0.9673238 ],\n",
              "           [0.9673238 ],\n",
              "           [0.9673238 ],\n",
              "           ...,\n",
              "           [0.07440952],\n",
              "           [0.03720476],\n",
              "           [0.        ]],\n",
              " \n",
              "          [[0.9673238 ],\n",
              "           [0.9673238 ],\n",
              "           [0.9673238 ],\n",
              "           ...,\n",
              "           [0.03720476],\n",
              "           [0.        ],\n",
              "           [9.487214  ]]],\n",
              " \n",
              " \n",
              "         [[[1.4137809 ],\n",
              "           [1.4881904 ],\n",
              "           [1.5253952 ],\n",
              "           ...,\n",
              "           [0.26043332],\n",
              "           [0.26043332],\n",
              "           [0.26043332]],\n",
              " \n",
              "          [[1.4881904 ],\n",
              "           [1.5253952 ],\n",
              "           [1.5253952 ],\n",
              "           ...,\n",
              "           [0.26043332],\n",
              "           [0.26043332],\n",
              "           [0.26043332]],\n",
              " \n",
              "          [[1.4881904 ],\n",
              "           [1.4881904 ],\n",
              "           [1.4137809 ],\n",
              "           ...,\n",
              "           [0.2976381 ],\n",
              "           [0.2976381 ],\n",
              "           [0.2976381 ]],\n",
              " \n",
              "          ...,\n",
              " \n",
              "          [[1.0417333 ],\n",
              "           [1.0417333 ],\n",
              "           [1.0045285 ],\n",
              "           ...,\n",
              "           [0.07440952],\n",
              "           [0.03720476],\n",
              "           [0.        ]],\n",
              " \n",
              "          [[1.0417333 ],\n",
              "           [1.0045285 ],\n",
              "           [1.0045285 ],\n",
              "           ...,\n",
              "           [0.07440952],\n",
              "           [0.        ],\n",
              "           [9.487214  ]],\n",
              " \n",
              "          [[1.0045285 ],\n",
              "           [1.0045285 ],\n",
              "           [1.0045285 ],\n",
              "           ...,\n",
              "           [0.03720476],\n",
              "           [9.487214  ],\n",
              "           [9.487214  ]]]],\n",
              " \n",
              " \n",
              " \n",
              "        [[[[1.1759837 ],\n",
              "           [1.1759837 ],\n",
              "           [1.1759837 ],\n",
              "           ...,\n",
              "           [0.37934956],\n",
              "           [0.49315444],\n",
              "           [0.30347964]],\n",
              " \n",
              "          [[1.1759837 ],\n",
              "           [1.1759837 ],\n",
              "           [1.1759837 ],\n",
              "           ...,\n",
              "           [0.3414146 ],\n",
              "           [0.49315444],\n",
              "           [0.2655447 ]],\n",
              " \n",
              "          [[1.1001137 ],\n",
              "           [1.1001137 ],\n",
              "           [1.1001137 ],\n",
              "           ...,\n",
              "           [0.37934956],\n",
              "           [0.64489424],\n",
              "           [0.6069593 ]],\n",
              " \n",
              "          ...,\n",
              " \n",
              "          [[0.7586991 ],\n",
              "           [0.7586991 ],\n",
              "           [0.7586991 ],\n",
              "           ...,\n",
              "           [8.497431  ],\n",
              "           [7.776666  ],\n",
              "           [8.307755  ]],\n",
              " \n",
              "          [[0.72076416],\n",
              "           [0.72076416],\n",
              "           [0.72076416],\n",
              "           ...,\n",
              "           [9.18026   ],\n",
              "           [7.321447  ],\n",
              "           [8.042211  ]],\n",
              " \n",
              "          [[0.72076416],\n",
              "           [0.72076416],\n",
              "           [0.72076416],\n",
              "           ...,\n",
              "           [0.2655447 ],\n",
              "           [7.5111213 ],\n",
              "           [7.6249266 ]]],\n",
              " \n",
              " \n",
              "         [[[1.1001137 ],\n",
              "           [1.1001137 ],\n",
              "           [1.1001137 ],\n",
              "           ...,\n",
              "           [0.3414146 ],\n",
              "           [0.5310894 ],\n",
              "           [0.2655447 ]],\n",
              " \n",
              "          [[1.1380486 ],\n",
              "           [1.1380486 ],\n",
              "           [1.1380486 ],\n",
              "           ...,\n",
              "           [0.30347964],\n",
              "           [0.5310894 ],\n",
              "           [0.22760974]],\n",
              " \n",
              "          [[1.1001137 ],\n",
              "           [1.1001137 ],\n",
              "           [1.1001137 ],\n",
              "           ...,\n",
              "           [0.3414146 ],\n",
              "           [0.5690243 ],\n",
              "           [0.41728452]],\n",
              " \n",
              "          ...,\n",
              " \n",
              "          [[0.7586991 ],\n",
              "           [0.7586991 ],\n",
              "           [0.7586991 ],\n",
              "           ...,\n",
              "           [8.87678   ],\n",
              "           [7.7387314 ],\n",
              "           [8.383625  ]],\n",
              " \n",
              "          [[0.72076416],\n",
              "           [0.72076416],\n",
              "           [0.72076416],\n",
              "           ...,\n",
              "           [9.521674  ],\n",
              "           [7.3593817 ],\n",
              "           [8.080146  ]],\n",
              " \n",
              "          [[0.72076416],\n",
              "           [0.72076416],\n",
              "           [0.72076416],\n",
              "           ...,\n",
              "           [0.37934956],\n",
              "           [7.6249266 ],\n",
              "           [7.4352517 ]]],\n",
              " \n",
              " \n",
              "         [[[1.1380486 ],\n",
              "           [1.1001137 ],\n",
              "           [1.0621789 ],\n",
              "           ...,\n",
              "           [0.30347964],\n",
              "           [0.5310894 ],\n",
              "           [0.2655447 ]],\n",
              " \n",
              "          [[1.1380486 ],\n",
              "           [1.1001137 ],\n",
              "           [1.0621789 ],\n",
              "           ...,\n",
              "           [0.2655447 ],\n",
              "           [0.5310894 ],\n",
              "           [0.2655447 ]],\n",
              " \n",
              "          [[1.1001137 ],\n",
              "           [1.1001137 ],\n",
              "           [1.1001137 ],\n",
              "           ...,\n",
              "           [0.30347964],\n",
              "           [0.41728452],\n",
              "           [0.45521948]],\n",
              " \n",
              "          ...,\n",
              " \n",
              "          [[0.7586991 ],\n",
              "           [0.7586991 ],\n",
              "           [0.7586991 ],\n",
              "           ...,\n",
              "           [9.104389  ],\n",
              "           [7.776666  ],\n",
              "           [8.345691  ]],\n",
              " \n",
              "          [[0.7586991 ],\n",
              "           [0.7586991 ],\n",
              "           [0.7586991 ],\n",
              "           ...,\n",
              "           [9.635479  ],\n",
              "           [7.4352517 ],\n",
              "           [8.004276  ]],\n",
              " \n",
              "          [[0.72076416],\n",
              "           [0.72076416],\n",
              "           [0.72076416],\n",
              "           ...,\n",
              "           [0.41728452],\n",
              "           [7.700796  ],\n",
              "           [7.3593817 ]]],\n",
              " \n",
              " \n",
              "         ...,\n",
              " \n",
              " \n",
              "         [[[1.1759837 ],\n",
              "           [1.1759837 ],\n",
              "           [1.1759837 ],\n",
              "           ...,\n",
              "           [0.37934956],\n",
              "           [0.6069593 ],\n",
              "           [0.6069593 ]],\n",
              " \n",
              "          [[1.1759837 ],\n",
              "           [1.1759837 ],\n",
              "           [1.1759837 ],\n",
              "           ...,\n",
              "           [0.37934956],\n",
              "           [0.5690243 ],\n",
              "           [0.6069593 ]],\n",
              " \n",
              "          [[1.1380486 ],\n",
              "           [1.1380486 ],\n",
              "           [1.1759837 ],\n",
              "           ...,\n",
              "           [0.3414146 ],\n",
              "           [0.83456904],\n",
              "           [0.5310894 ]],\n",
              " \n",
              "          ...,\n",
              " \n",
              "          [[0.7966341 ],\n",
              "           [0.7966341 ],\n",
              "           [0.7966341 ],\n",
              "           ...,\n",
              "           [0.2655447 ],\n",
              "           [8.042211  ],\n",
              "           [8.118081  ]],\n",
              " \n",
              "          [[0.7966341 ],\n",
              "           [0.7966341 ],\n",
              "           [0.7966341 ],\n",
              "           ...,\n",
              "           [0.6069593 ],\n",
              "           [8.156015  ],\n",
              "           [7.5869913 ]],\n",
              " \n",
              "          [[0.7966341 ],\n",
              "           [0.7966341 ],\n",
              "           [0.7586991 ],\n",
              "           ...,\n",
              "           [0.7966341 ],\n",
              "           [8.72504   ],\n",
              "           [7.2835116 ]]],\n",
              " \n",
              " \n",
              "         [[[1.1759837 ],\n",
              "           [1.1759837 ],\n",
              "           [1.1759837 ],\n",
              "           ...,\n",
              "           [0.37934956],\n",
              "           [0.64489424],\n",
              "           [0.6828292 ]],\n",
              " \n",
              "          [[1.1759837 ],\n",
              "           [1.1759837 ],\n",
              "           [1.1759837 ],\n",
              "           ...,\n",
              "           [0.3414146 ],\n",
              "           [0.6069593 ],\n",
              "           [0.6828292 ]],\n",
              " \n",
              "          [[1.1380486 ],\n",
              "           [1.1380486 ],\n",
              "           [1.1759837 ],\n",
              "           ...,\n",
              "           [0.30347964],\n",
              "           [0.72076416],\n",
              "           [0.6828292 ]],\n",
              " \n",
              "          ...,\n",
              " \n",
              "          [[0.7966341 ],\n",
              "           [0.7966341 ],\n",
              "           [0.7966341 ],\n",
              "           ...,\n",
              "           [0.5690243 ],\n",
              "           [7.890471  ],\n",
              "           [8.080146  ]],\n",
              " \n",
              "          [[0.7586991 ],\n",
              "           [0.7586991 ],\n",
              "           [0.7586991 ],\n",
              "           ...,\n",
              "           [0.7586991 ],\n",
              "           [8.042211  ],\n",
              "           [7.5111213 ]],\n",
              " \n",
              "          [[0.7586991 ],\n",
              "           [0.7586991 ],\n",
              "           [0.72076416],\n",
              "           ...,\n",
              "           [0.72076416],\n",
              "           [8.80091   ],\n",
              "           [7.131772  ]]],\n",
              " \n",
              " \n",
              "         [[[1.1759837 ],\n",
              "           [1.1759837 ],\n",
              "           [1.1759837 ],\n",
              "           ...,\n",
              "           [0.45521948],\n",
              "           [0.6828292 ],\n",
              "           [0.64489424]],\n",
              " \n",
              "          [[1.1759837 ],\n",
              "           [1.1759837 ],\n",
              "           [1.1759837 ],\n",
              "           ...,\n",
              "           [0.37934956],\n",
              "           [0.64489424],\n",
              "           [0.64489424]],\n",
              " \n",
              "          [[1.1380486 ],\n",
              "           [1.1380486 ],\n",
              "           [1.1759837 ],\n",
              "           ...,\n",
              "           [0.30347964],\n",
              "           [0.6828292 ],\n",
              "           [0.7586991 ]],\n",
              " \n",
              "          ...,\n",
              " \n",
              "          [[0.83456904],\n",
              "           [0.83456904],\n",
              "           [0.83456904],\n",
              "           ...,\n",
              "           [0.5690243 ],\n",
              "           [7.814601  ],\n",
              "           [8.004276  ]],\n",
              " \n",
              "          [[0.7966341 ],\n",
              "           [0.7966341 ],\n",
              "           [0.7966341 ],\n",
              "           ...,\n",
              "           [0.7966341 ],\n",
              "           [8.042211  ],\n",
              "           [7.4352517 ]],\n",
              " \n",
              "          [[0.7966341 ],\n",
              "           [0.7966341 ],\n",
              "           [0.7586991 ],\n",
              "           ...,\n",
              "           [0.7966341 ],\n",
              "           [8.838845  ],\n",
              "           [7.093837  ]]]]], dtype=float32),\n",
              " array([[ 2,  9, 14, 27, 18,  5,  4, 27,  9, 14, 27,  6, 27,  6, 15, 21,\n",
              "         18, 27, 14, 15, 23,  0,  0,  0,  0,  0,  0,  0,  0,  0,  0,  0,\n",
              "          0,  0,  0,  0,  0,  0,  0,  0],\n",
              "        [12,  1, 25, 27,  7, 18,  5,  5, 14, 27,  2, 25, 27,  7, 27, 26,\n",
              "          5, 18, 15, 27, 16, 12,  5,  1, 19,  5,  0,  0,  0,  0,  0,  0,\n",
              "          0,  0,  0,  0,  0,  0,  0,  0]], dtype=int64))"
            ]
          },
          "execution_count": 17,
          "metadata": {},
          "output_type": "execute_result"
        }
      ],
      "source": [
        "sample = data.as_numpy_iterator().next()\n",
        "sample"
      ]
    },
    {
      "cell_type": "code",
      "execution_count": 18,
      "metadata": {
        "colab": {
          "base_uri": "https://localhost:8080/"
        },
        "id": "00-E7B6t0Rem",
        "outputId": "57825ba1-3e59-4961-f2e8-76e9a92dc01d"
      },
      "outputs": [
        {
          "name": "stdout",
          "output_type": "stream",
          "text": [
            "1/1 [==============================] - 8s 8s/step\n"
          ]
        }
      ],
      "source": [
        "result = model.predict(sample[0])"
      ]
    },
    {
      "cell_type": "code",
      "execution_count": 19,
      "metadata": {
        "colab": {
          "base_uri": "https://localhost:8080/"
        },
        "id": "orTXZTSx0Yu9",
        "outputId": "b463908c-1d8d-4589-8184-dfeb4e8c0320"
      },
      "outputs": [
        {
          "name": "stdout",
          "output_type": "stream",
          "text": [
            "Original: bin red in f four now\n",
            "Prediction: bin red in four now\n",
            "~~~~~~~~~~~~~~~~~~~~~~~~~~~~~~~~~~~~~~~~~~~~~~~~~~~~~~~~~~~~~~~~~~~~~~~~~~~~~~~~~~~~~~~~~~~~~~~~~~~~\n",
            "Original: lay green by g zero please\n",
            "Prediction: lay gren by zero please\n",
            "~~~~~~~~~~~~~~~~~~~~~~~~~~~~~~~~~~~~~~~~~~~~~~~~~~~~~~~~~~~~~~~~~~~~~~~~~~~~~~~~~~~~~~~~~~~~~~~~~~~~\n"
          ]
        }
      ],
      "source": [
        "decoded = tf.keras.backend.ctc_decode(result, [75,75], greedy=False)[0][0].numpy()\n",
        "for x in range(len(result)):\n",
        "    print('Original:', tf.strings.reduce_join(num_to_char(sample[1][x])).numpy().decode('utf-8'))\n",
        "    print('Prediction:', tf.strings.reduce_join(num_to_char(decoded[x])).numpy().decode('utf-8'))\n",
        "    print('~'*100)"
      ]
    },
    {
      "cell_type": "code",
      "execution_count": 20,
      "metadata": {
        "id": "75DZWUV80t5Y"
      },
      "outputs": [],
      "source": [
        "import pickle\n",
        "# create an iterator object with write permission - model.pkl\n",
        "with open('model_pkl', 'wb') as files:\n",
        "    pickle.dump(model, files)"
      ]
    },
    {
      "cell_type": "code",
      "execution_count": 21,
      "metadata": {},
      "outputs": [
        {
          "name": "stdout",
          "output_type": "stream",
          "text": [
            "50/50 [==============================] - 782s 4s/step - loss: 4.4355\n"
          ]
        },
        {
          "data": {
            "text/plain": [
              "4.4354681968688965"
            ]
          },
          "execution_count": 21,
          "metadata": {},
          "output_type": "execute_result"
        }
      ],
      "source": [
        "model.evaluate(test)"
      ]
    },
    {
      "cell_type": "code",
      "execution_count": 22,
      "metadata": {},
      "outputs": [
        {
          "ename": "InvalidArgumentError",
          "evalue": "{{function_node __wrapped__StridedSlice_device_/job:localhost/replica:0/task:0/device:CPU:0}} slice index 4 of dimension 0 out of bounds. [Op:StridedSlice] name: strided_slice/",
          "output_type": "error",
          "traceback": [
            "\u001b[1;31m---------------------------------------------------------------------------\u001b[0m",
            "\u001b[1;31mInvalidArgumentError\u001b[0m                      Traceback (most recent call last)",
            "\u001b[1;32mc:\\Users\\Rajvi Zala\\streamlit-app\\VSR.ipynb Cell 22\u001b[0m line \u001b[0;36m<cell line: 2>\u001b[1;34m()\u001b[0m\n\u001b[0;32m      <a href='vscode-notebook-cell:/c%3A/Users/Rajvi%20Zala/streamlit-app/VSR.ipynb#X30sZmlsZQ%3D%3D?line=0'>1</a>\u001b[0m frames \u001b[39m=\u001b[39m load_video(\u001b[39m\"\u001b[39m\u001b[39mbbab8n.mpg\u001b[39m\u001b[39m\"\u001b[39m)\n\u001b[1;32m----> <a href='vscode-notebook-cell:/c%3A/Users/Rajvi%20Zala/streamlit-app/VSR.ipynb#X30sZmlsZQ%3D%3D?line=1'>2</a>\u001b[0m plt\u001b[39m.\u001b[39mimshow(frames[\u001b[39m4\u001b[39;49m])\n",
            "File \u001b[1;32mc:\\Users\\Rajvi Zala\\anaconda3\\lib\\site-packages\\tensorflow\\python\\util\\traceback_utils.py:153\u001b[0m, in \u001b[0;36mfilter_traceback.<locals>.error_handler\u001b[1;34m(*args, **kwargs)\u001b[0m\n\u001b[0;32m    151\u001b[0m \u001b[39mexcept\u001b[39;00m \u001b[39mException\u001b[39;00m \u001b[39mas\u001b[39;00m e:\n\u001b[0;32m    152\u001b[0m   filtered_tb \u001b[39m=\u001b[39m _process_traceback_frames(e\u001b[39m.\u001b[39m__traceback__)\n\u001b[1;32m--> 153\u001b[0m   \u001b[39mraise\u001b[39;00m e\u001b[39m.\u001b[39mwith_traceback(filtered_tb) \u001b[39mfrom\u001b[39;00m \u001b[39mNone\u001b[39;00m\n\u001b[0;32m    154\u001b[0m \u001b[39mfinally\u001b[39;00m:\n\u001b[0;32m    155\u001b[0m   \u001b[39mdel\u001b[39;00m filtered_tb\n",
            "File \u001b[1;32mc:\\Users\\Rajvi Zala\\anaconda3\\lib\\site-packages\\tensorflow\\python\\framework\\ops.py:6656\u001b[0m, in \u001b[0;36mraise_from_not_ok_status\u001b[1;34m(e, name)\u001b[0m\n\u001b[0;32m   6654\u001b[0m \u001b[39mdef\u001b[39;00m \u001b[39mraise_from_not_ok_status\u001b[39m(e, name):\n\u001b[0;32m   6655\u001b[0m   e\u001b[39m.\u001b[39mmessage \u001b[39m+\u001b[39m\u001b[39m=\u001b[39m (\u001b[39m\"\u001b[39m\u001b[39m name: \u001b[39m\u001b[39m\"\u001b[39m \u001b[39m+\u001b[39m \u001b[39mstr\u001b[39m(name \u001b[39mif\u001b[39;00m name \u001b[39mis\u001b[39;00m \u001b[39mnot\u001b[39;00m \u001b[39mNone\u001b[39;00m \u001b[39melse\u001b[39;00m \u001b[39m\"\u001b[39m\u001b[39m\"\u001b[39m))\n\u001b[1;32m-> 6656\u001b[0m   \u001b[39mraise\u001b[39;00m core\u001b[39m.\u001b[39m_status_to_exception(e) \u001b[39mfrom\u001b[39;00m \u001b[39mNone\u001b[39;00m\n",
            "\u001b[1;31mInvalidArgumentError\u001b[0m: {{function_node __wrapped__StridedSlice_device_/job:localhost/replica:0/task:0/device:CPU:0}} slice index 4 of dimension 0 out of bounds. [Op:StridedSlice] name: strided_slice/"
          ]
        }
      ],
      "source": [
        "frames = load_video(\"bbab8n.mpg\")\n",
        "plt.imshow(frames[4])"
      ]
    },
    {
      "cell_type": "code",
      "execution_count": null,
      "metadata": {},
      "outputs": [
        {
          "name": "stdout",
          "output_type": "stream",
          "text": [
            "1/1 [==============================] - 3s 3s/step\n"
          ]
        }
      ],
      "source": [
        "result = model.predict(tf.expand_dims(frames, axis=0))"
      ]
    },
    {
      "cell_type": "code",
      "execution_count": null,
      "metadata": {},
      "outputs": [],
      "source": [
        "decoded = tf.keras.backend.ctc_decode(result, [75], greedy=False)[0][0].numpy()"
      ]
    },
    {
      "cell_type": "code",
      "execution_count": null,
      "metadata": {},
      "outputs": [
        {
          "data": {
            "text/plain": [
              "'set blue a e sosn'"
            ]
          },
          "execution_count": 70,
          "metadata": {},
          "output_type": "execute_result"
        }
      ],
      "source": [
        "tf.strings.reduce_join(num_to_char(decoded)).numpy().decode('utf-8')"
      ]
    },
    {
      "cell_type": "code",
      "execution_count": null,
      "metadata": {},
      "outputs": [],
      "source": []
    },
    {
      "cell_type": "code",
      "execution_count": null,
      "metadata": {},
      "outputs": [],
      "source": []
    },
    {
      "cell_type": "code",
      "execution_count": null,
      "metadata": {},
      "outputs": [],
      "source": []
    }
  ],
  "metadata": {
    "accelerator": "GPU",
    "colab": {
      "gpuType": "T4",
      "provenance": []
    },
    "kernelspec": {
      "display_name": "Python 3",
      "name": "python3"
    },
    "language_info": {
      "codemirror_mode": {
        "name": "ipython",
        "version": 3
      },
      "file_extension": ".py",
      "mimetype": "text/x-python",
      "name": "python",
      "nbconvert_exporter": "python",
      "pygments_lexer": "ipython3",
      "version": "3.9.12"
    }
  },
  "nbformat": 4,
  "nbformat_minor": 0
}
